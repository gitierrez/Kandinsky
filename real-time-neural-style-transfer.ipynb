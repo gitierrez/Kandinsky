{
 "cells": [
  {
   "cell_type": "code",
   "execution_count": 1,
   "metadata": {
    "scrolled": false
   },
   "outputs": [],
   "source": [
    "import torch\n",
    "import torchvision\n",
    "import pytorch_lightning as pl\n",
    "\n",
    "from src.kandinsky.style import StyleNet\n",
    "from src.kandinsky.transform import TransformNet"
   ]
  },
  {
   "cell_type": "code",
   "execution_count": 2,
   "metadata": {
    "scrolled": true
   },
   "outputs": [],
   "source": [
    "sample_image = torch.randint(low=0, high=255, size=(1, 3, 512, 512))/255.\n",
    "stylenet = StyleNet(torchvision.models.vgg16(pretrained=True), output_layers=[3, 8, 15, 22])"
   ]
  },
  {
   "cell_type": "markdown",
   "metadata": {},
   "source": [
    "### TransformNet"
   ]
  },
  {
   "cell_type": "code",
   "execution_count": 4,
   "metadata": {},
   "outputs": [],
   "source": [
    "transform_net = TransformNet()"
   ]
  },
  {
   "cell_type": "markdown",
   "metadata": {},
   "source": [
    "### MetaNet"
   ]
  },
  {
   "cell_type": "code",
   "execution_count": null,
   "metadata": {},
   "outputs": [],
   "source": []
  },
  {
   "cell_type": "code",
   "execution_count": null,
   "metadata": {},
   "outputs": [],
   "source": []
  },
  {
   "cell_type": "code",
   "execution_count": null,
   "metadata": {},
   "outputs": [],
   "source": []
  },
  {
   "cell_type": "code",
   "execution_count": null,
   "metadata": {},
   "outputs": [],
   "source": []
  },
  {
   "cell_type": "code",
   "execution_count": null,
   "metadata": {},
   "outputs": [],
   "source": []
  },
  {
   "cell_type": "markdown",
   "metadata": {},
   "source": [
    "### Optimization process and weight setting"
   ]
  },
  {
   "cell_type": "code",
   "execution_count": 46,
   "metadata": {},
   "outputs": [],
   "source": [
    "class TestNet(torch.nn.Module):\n",
    "    \n",
    "    def __init__(self):\n",
    "        super(TestNet, self).__init__()\n",
    "        self.layer = torch.nn.Linear(10, 1, bias=False)\n",
    "        self.activation = torch.nn.Sigmoid()\n",
    "        \n",
    "    def forward(self, x):\n",
    "        return self.activation(self.layer(x))"
   ]
  },
  {
   "cell_type": "code",
   "execution_count": 47,
   "metadata": {},
   "outputs": [],
   "source": [
    "x = torch.randn((20, 10))\n",
    "y = torch.randint(low=0, high=2, size=(20,)).float()"
   ]
  },
  {
   "cell_type": "code",
   "execution_count": 48,
   "metadata": {},
   "outputs": [
    {
     "name": "stdout",
     "output_type": "stream",
     "text": [
      "Initial parameters: [Parameter containing:\n",
      "tensor([[ 0.2865, -0.1091,  0.2287, -0.2737,  0.3066, -0.2674,  0.2684, -0.2965,\n",
      "          0.2124,  0.2732]], requires_grad=True)]\n",
      "Predictions: tensor([[0.1765],\n",
      "        [0.2205],\n",
      "        [0.5219],\n",
      "        [0.2195],\n",
      "        [0.2172],\n",
      "        [0.7611],\n",
      "        [0.6976],\n",
      "        [0.6923],\n",
      "        [0.6902],\n",
      "        [0.7660],\n",
      "        [0.4499],\n",
      "        [0.4939],\n",
      "        [0.5652],\n",
      "        [0.4426],\n",
      "        [0.6286],\n",
      "        [0.2383],\n",
      "        [0.2118],\n",
      "        [0.6073],\n",
      "        [0.7550],\n",
      "        [0.5828]], grad_fn=<SigmoidBackward>)\n",
      "Predictions: tensor([[0.1765],\n",
      "        [0.2205],\n",
      "        [0.5219],\n",
      "        [0.2195],\n",
      "        [0.2172],\n",
      "        [0.7611],\n",
      "        [0.6976],\n",
      "        [0.6923],\n",
      "        [0.6902],\n",
      "        [0.7660],\n",
      "        [0.4499],\n",
      "        [0.4939],\n",
      "        [0.5652],\n",
      "        [0.4426],\n",
      "        [0.6286],\n",
      "        [0.2383],\n",
      "        [0.2118],\n",
      "        [0.6073],\n",
      "        [0.7550],\n",
      "        [0.5828]], grad_fn=<SigmoidBackward>)\n",
      "Predictions: tensor([[0.1765],\n",
      "        [0.2205],\n",
      "        [0.5219],\n",
      "        [0.2195],\n",
      "        [0.2172],\n",
      "        [0.7611],\n",
      "        [0.6976],\n",
      "        [0.6923],\n",
      "        [0.6902],\n",
      "        [0.7660],\n",
      "        [0.4499],\n",
      "        [0.4939],\n",
      "        [0.5652],\n",
      "        [0.4426],\n",
      "        [0.6286],\n",
      "        [0.2383],\n",
      "        [0.2118],\n",
      "        [0.6073],\n",
      "        [0.7550],\n",
      "        [0.5828]], grad_fn=<SigmoidBackward>)\n",
      "Predictions: tensor([[0.1765],\n",
      "        [0.2205],\n",
      "        [0.5219],\n",
      "        [0.2195],\n",
      "        [0.2172],\n",
      "        [0.7611],\n",
      "        [0.6976],\n",
      "        [0.6923],\n",
      "        [0.6902],\n",
      "        [0.7660],\n",
      "        [0.4499],\n",
      "        [0.4939],\n",
      "        [0.5652],\n",
      "        [0.4426],\n",
      "        [0.6286],\n",
      "        [0.2383],\n",
      "        [0.2118],\n",
      "        [0.6073],\n",
      "        [0.7550],\n",
      "        [0.5828]], grad_fn=<SigmoidBackward>)\n",
      "Predictions: tensor([[0.1765],\n",
      "        [0.2205],\n",
      "        [0.5219],\n",
      "        [0.2195],\n",
      "        [0.2172],\n",
      "        [0.7611],\n",
      "        [0.6976],\n",
      "        [0.6923],\n",
      "        [0.6902],\n",
      "        [0.7660],\n",
      "        [0.4499],\n",
      "        [0.4939],\n",
      "        [0.5652],\n",
      "        [0.4426],\n",
      "        [0.6286],\n",
      "        [0.2383],\n",
      "        [0.2118],\n",
      "        [0.6073],\n",
      "        [0.7550],\n",
      "        [0.5828]], grad_fn=<SigmoidBackward>)\n"
     ]
    },
    {
     "name": "stderr",
     "output_type": "stream",
     "text": [
      "<ipython-input-48-3098955dca9e>:11: UserWarning: Using a target size (torch.Size([20])) that is different to the input size (torch.Size([20, 1])) is deprecated. Please ensure they have the same size.\n",
      "  loss = torch.nn.functional.binary_cross_entropy(y_pred, y)\n"
     ]
    }
   ],
   "source": [
    "weights_to_set = torch.randn(10)\n",
    "net = TestNet()\n",
    "optimizer = torch.optim.Adam([x.clone().requires_grad_()])\n",
    "print('Initial parameters:', list(net.parameters()))\n",
    "for epoch in range(5):\n",
    "    optimizer.zero_grad()\n",
    "    with torch.no_grad():\n",
    "        net.parameters = weights_to_set\n",
    "    y_pred = net(x)\n",
    "    print('Predictions:', y_pred)\n",
    "    loss = torch.nn.functional.binary_cross_entropy(y_pred, y)\n",
    "    loss.backward()\n",
    "    optimizer.step()"
   ]
  },
  {
   "cell_type": "code",
   "execution_count": 50,
   "metadata": {},
   "outputs": [
    {
     "data": {
      "text/plain": [
       "[tensor(0.3111),\n",
       " tensor(0.3184),\n",
       " tensor(1.1571),\n",
       " tensor(0.5499),\n",
       " tensor(1.3203),\n",
       " tensor(0.0372),\n",
       " tensor(1.5531),\n",
       " tensor(-0.6083),\n",
       " tensor(0.2112),\n",
       " tensor(-0.0409)]"
      ]
     },
     "execution_count": 50,
     "metadata": {},
     "output_type": "execute_result"
    }
   ],
   "source": [
    "list(net.parameters)"
   ]
  },
  {
   "cell_type": "code",
   "execution_count": 22,
   "metadata": {},
   "outputs": [
    {
     "data": {
      "text/plain": [
       "[Parameter containing:\n",
       " tensor([[-0.2583, -0.0631,  0.0906, -0.0612,  0.2911,  0.1079, -0.1554,  0.3074,\n",
       "           0.1085,  0.2834]], requires_grad=True)]"
      ]
     },
     "execution_count": 22,
     "metadata": {},
     "output_type": "execute_result"
    }
   ],
   "source": [
    "list(TestNet().parameters())"
   ]
  },
  {
   "cell_type": "code",
   "execution_count": null,
   "metadata": {},
   "outputs": [],
   "source": []
  }
 ],
 "metadata": {
  "kernelspec": {
   "display_name": "kandinsky_p38",
   "language": "python",
   "name": "kandinsky_p38"
  },
  "language_info": {
   "codemirror_mode": {
    "name": "ipython",
    "version": 3
   },
   "file_extension": ".py",
   "mimetype": "text/x-python",
   "name": "python",
   "nbconvert_exporter": "python",
   "pygments_lexer": "ipython3",
   "version": "3.8.2"
  }
 },
 "nbformat": 4,
 "nbformat_minor": 2
}
